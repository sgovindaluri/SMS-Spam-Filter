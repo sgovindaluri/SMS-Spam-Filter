{
  "nbformat": 4,
  "nbformat_minor": 0,
  "metadata": {
    "colab": {
      "provenance": [],
      "include_colab_link": true
    },
    "kernelspec": {
      "name": "python3",
      "display_name": "Python 3"
    },
    "language_info": {
      "name": "python"
    }
  },
  "cells": [
    {
      "cell_type": "markdown",
      "metadata": {
        "id": "view-in-github",
        "colab_type": "text"
      },
      "source": [
        "<a href=\"https://colab.research.google.com/github/sgovindaluri/SMS-Spam-Filter/blob/master/HelloWorld.ipynb\" target=\"_parent\"><img src=\"https://colab.research.google.com/assets/colab-badge.svg\" alt=\"Open In Colab\"/></a>"
      ]
    },
    {
      "cell_type": "code",
      "execution_count": null,
      "metadata": {
        "id": "uUsTz-Hz7lrY"
      },
      "outputs": [],
      "source": [
        "import pandas as pd"
      ]
    },
    {
      "cell_type": "code",
      "source": [
        "print('hello_sugartits')"
      ],
      "metadata": {
        "id": "OvnCO7_U9Lxz",
        "colab": {
          "base_uri": "https://localhost:8080/"
        },
        "outputId": "75ad79e2-6496-43e3-8eb5-753cf2c3b3ab"
      },
      "execution_count": null,
      "outputs": [
        {
          "output_type": "stream",
          "name": "stdout",
          "text": [
            "hello_sugartits\n"
          ]
        }
      ]
    },
    {
      "cell_type": "code",
      "source": [
        "x = [1,2,3]\n",
        "print(x)"
      ],
      "metadata": {
        "id": "aErnkwfl9Yej",
        "colab": {
          "base_uri": "https://localhost:8080/"
        },
        "outputId": "0cd30ba5-c7a5-4fca-aaf4-f0e0f237f41b"
      },
      "execution_count": null,
      "outputs": [
        {
          "output_type": "stream",
          "name": "stdout",
          "text": [
            "[1, 2, 3]\n"
          ]
        }
      ]
    },
    {
      "cell_type": "code",
      "source": [
        "# Sonali\n",
        "\n",
        "x = 2"
      ],
      "metadata": {
        "id": "mnI6njHqBKfl"
      },
      "execution_count": 7,
      "outputs": []
    },
    {
      "cell_type": "code",
      "source": [],
      "metadata": {
        "id": "letWbs_IBvR7"
      },
      "execution_count": null,
      "outputs": []
    }
  ]
}